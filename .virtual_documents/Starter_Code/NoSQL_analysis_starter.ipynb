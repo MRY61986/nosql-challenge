





from pymongo import MongoClient
import pandas as pd
from pprint import pprint


# Create an instance of MongoClient
mongo = MongoClient(port=27017)


# assign the uk_food database to a variable name
db = mongo['uk_food']


# review the collections in our database
print(db.list_collection_names())


# assign the collection to a variable
establishments = db['establishments']








# Find the establishments with a hygiene score of 20
query = {"scores.Hygiene": 20}

# Use count_documents to display the number of documents in the result
count = establishments.count_documents(query)
print(count)
# Display the first document in the results using pprint
first_document = establishments.find_one(query)
pprint(first_document)


# Convert the result to a Pandas DataFrame
results = establishments.find(query)
df = pd.DataFrame(list(results))
# Display the number of rows in the DataFrame
print(len(df))
# Display the first 10 rows of the DataFrame
print(df.head(10))





# Find the establishments with London as the Local Authority and has a RatingValue greater than or equal to 4.
query = {"LocalAuthorityName": {"$regex": "London", "$options": "i"}, "RatingValue": {"$gte": 4}}

# Use count_documents to display the number of documents in the result
count = establishments.count_documents(query)
print(f"Number of establishments in London with RatingValue >= 4: {count}")

# Display the first document in the results using pprint
first_document = establishments.find_one(query)
print("\nFirst establishment in London with RatingValue >= 4:")
pprint(first_document)


# Convert the result to a Pandas DataFrame
results = establishments.find(query)
df = pd.DataFrame(list(results))

# Display the number of rows in the DataFrame
print(f"\nNumber of rows in the DataFrame: {len(df)}")

# Display the first 10 rows of the DataFrame
print("\nFirst 10 rows of the DataFrame:")
print(df.head(10))





# Search within 0.01 degree on either side of the latitude and longitude.
degree_search = 0.01
latitude = 51.49014200
longitude = 0.08384000

# Rating value must equal 5
query = {
    "geocode.latitude": {"$gte": latitude - degree_search, "$lte": latitude + degree_search},
    "geocode.longitude": {"$gte": longitude - degree_search, "$lte": longitude + degree_search},
    "RatingValue": 5
}

# Sort by hygiene score
sort = [("scores.Hygiene", 1)]  # Sort by Hygiene score (ascending)
limit = 5
results = establishments.find(query).sort(sort).limit(limit)


# Print the results
print("Top 5 establishments near 'Penang Flavours' with RatingValue of 5:")
for result in results:
    pprint(result)


# Convert result to Pandas DataFrame
results = establishments.find(query).sort(sort).limit(limit)
df = pd.DataFrame(list(results))
print("\nFirst 10 rows of the DataFrame:")
print(df)





# Create a pipeline that:
pipeline = [
# 1. Matches establishments with a hygiene score of 0
    {"$match": {"scores.Hygiene": 0}},    
# 2. Groups the matches by Local Authority
    {"$group": {"_id": "$LocalAuthorityName", "count": {"$sum": 1}}},    
# 3. Sorts the matches from highest to lowest
    {"$sort": {"count": -1}}
]
results = list(establishments.aggregate(pipeline))

# Print the number of documents in the result
print(f"Number of Local Authorities with hygiene score of 0: {len(results)}")
# Print the first 10 results
print("\nTop 10 Local Authorities with the most establishments having a hygiene score of 0:")
for result in results[:10]:
    pprint(result)


# Convert the result to a Pandas DataFrame
df = pd.DataFrame(results)
# Display the number of rows in the DataFrame
print(f"\nNumber of rows in the DataFrame: {len(df)}")
# Display the first 10 rows of the DataFrame
print(df.head(10))



